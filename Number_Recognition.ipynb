{
 "cells": [
  {
   "cell_type": "code",
   "execution_count": 1,
   "id": "8284a6a1",
   "metadata": {},
   "outputs": [
    {
     "name": "stdout",
     "output_type": "stream",
     "text": [
      "Epoch 1/10\n",
      "1500/1500 [==============================] - 13s 7ms/step - loss: 0.2678 - accuracy: 0.9226 - val_loss: 0.1262 - val_accuracy: 0.9623\n",
      "Epoch 2/10\n",
      "1500/1500 [==============================] - 9s 6ms/step - loss: 0.1135 - accuracy: 0.9655 - val_loss: 0.1044 - val_accuracy: 0.9706\n",
      "Epoch 3/10\n",
      "1500/1500 [==============================] - 10s 7ms/step - loss: 0.0767 - accuracy: 0.9769 - val_loss: 0.1140 - val_accuracy: 0.9667\n",
      "Epoch 4/10\n",
      "1500/1500 [==============================] - 10s 7ms/step - loss: 0.0580 - accuracy: 0.9811 - val_loss: 0.0944 - val_accuracy: 0.9742\n",
      "Epoch 5/10\n",
      "1500/1500 [==============================] - 9s 6ms/step - loss: 0.0451 - accuracy: 0.9848 - val_loss: 0.0989 - val_accuracy: 0.9713\n",
      "Epoch 6/10\n",
      "1500/1500 [==============================] - 11s 7ms/step - loss: 0.0360 - accuracy: 0.9884 - val_loss: 0.1050 - val_accuracy: 0.9723\n",
      "Epoch 7/10\n",
      "1500/1500 [==============================] - 10s 7ms/step - loss: 0.0281 - accuracy: 0.9905 - val_loss: 0.1009 - val_accuracy: 0.9740\n",
      "Epoch 8/10\n",
      "1500/1500 [==============================] - 10s 7ms/step - loss: 0.0235 - accuracy: 0.9919 - val_loss: 0.1160 - val_accuracy: 0.9712\n",
      "Epoch 9/10\n",
      "1500/1500 [==============================] - 11s 7ms/step - loss: 0.0218 - accuracy: 0.9930 - val_loss: 0.1003 - val_accuracy: 0.9765\n",
      "Epoch 10/10\n",
      "1500/1500 [==============================] - 9s 6ms/step - loss: 0.0191 - accuracy: 0.9935 - val_loss: 0.1124 - val_accuracy: 0.9758\n",
      "313/313 [==============================] - 1s 3ms/step - loss: 0.0974 - accuracy: 0.9780\n",
      "Test accuracy: 0.9779999852180481\n",
      "1/1 [==============================] - 1s 591ms/step\n",
      "Predicted digit: 4\n"
     ]
    }
   ],
   "source": [
    "import numpy as np\n",
    "import tensorflow as tf\n",
    "from tensorflow.keras.datasets import mnist\n",
    "from tensorflow.keras.models import Sequential\n",
    "from tensorflow.keras.layers import Dense, Flatten\n",
    "\n",
    "(train_images, train_labels), (test_images, test_labels) = mnist.load_data()\n",
    "\n",
    "train_images = train_images.astype('float32') / 255.0\n",
    "test_images = test_images.astype('float32') / 255.0\n",
    "train_images = train_images.reshape((-1, 784))\n",
    "test_images = test_images.reshape((-1, 784))\n",
    "\n",
    "model = Sequential()\n",
    "model.add(Dense(128, activation='relu', input_shape=(784,)))\n",
    "model.add(Dense(64, activation='relu'))\n",
    "model.add(Dense(10, activation='softmax'))\n",
    "\n",
    "model.compile(optimizer='adam', loss='sparse_categorical_crossentropy', metrics=['accuracy'])\n",
    "\n",
    "model.fit(train_images, train_labels, epochs=10, batch_size=32, validation_split=0.2)\n",
    "\n",
    "test_loss, test_accuracy = model.evaluate(test_images, test_labels)\n",
    "print(f'Test accuracy: {test_accuracy}')\n",
    "\n",
    "new_image = tf.keras.preprocessing.image.load_img('4_Handwritten_Digit.jpg', color_mode='grayscale', target_size=(28, 28))\n",
    "new_image = tf.keras.preprocessing.image.img_to_array(new_image)\n",
    "new_image = new_image.reshape((1, 784)) / 255.0\n",
    "\n",
    "prediction = model.predict(new_image)\n",
    "predicted_label = np.argmax(prediction[0])\n",
    "print(f'Predicted digit: {predicted_label}')\n",
    "\n",
    "\n"
   ]
  },
  {
   "cell_type": "code",
   "execution_count": null,
   "id": "daa55987",
   "metadata": {},
   "outputs": [],
   "source": []
  }
 ],
 "metadata": {
  "kernelspec": {
   "display_name": "Python 3 (ipykernel)",
   "language": "python",
   "name": "python3"
  },
  "language_info": {
   "codemirror_mode": {
    "name": "ipython",
    "version": 3
   },
   "file_extension": ".py",
   "mimetype": "text/x-python",
   "name": "python",
   "nbconvert_exporter": "python",
   "pygments_lexer": "ipython3",
   "version": "3.9.13"
  }
 },
 "nbformat": 4,
 "nbformat_minor": 5
}
